{
 "cells": [
  {
   "cell_type": "code",
   "execution_count": 2,
   "metadata": {},
   "outputs": [
    {
     "name": "stdout",
     "output_type": "stream",
     "text": [
      "[[ 1  1  1]\n",
      " [ 1 -8  1]\n",
      " [ 1  1  1]]\n"
     ]
    },
    {
     "name": "stderr",
     "output_type": "stream",
     "text": [
      "[ WARN:0@88.910] global loadsave.cpp:268 findDecoder imread_('Lena.png'): can't open/read file: check file path/integrity\n"
     ]
    },
    {
     "ename": "error",
     "evalue": "OpenCV(4.11.0) /io/opencv/modules/imgproc/src/filter.dispatch.cpp:1528: error: (-215:Assertion failed) !_src.empty() in function 'filter2D'\n",
     "output_type": "error",
     "traceback": [
      "\u001b[0;31m---------------------------------------------------------------------------\u001b[0m",
      "\u001b[0;31merror\u001b[0m                                     Traceback (most recent call last)",
      "Cell \u001b[0;32mIn[2], line 8\u001b[0m\n\u001b[1;32m      5\u001b[0m kernel \u001b[38;5;241m=\u001b[39m np\u001b[38;5;241m.\u001b[39marray([[\u001b[38;5;241m1\u001b[39m,\u001b[38;5;241m1\u001b[39m,\u001b[38;5;241m1\u001b[39m],[\u001b[38;5;241m1\u001b[39m,\u001b[38;5;241m-\u001b[39m\u001b[38;5;241m8\u001b[39m,\u001b[38;5;241m1\u001b[39m],[\u001b[38;5;241m1\u001b[39m,\u001b[38;5;241m1\u001b[39m,\u001b[38;5;241m1\u001b[39m]])\n\u001b[1;32m      6\u001b[0m \u001b[38;5;28mprint\u001b[39m(kernel)\n\u001b[0;32m----> 8\u001b[0m output \u001b[38;5;241m=\u001b[39m \u001b[43mcv2\u001b[49m\u001b[38;5;241;43m.\u001b[39;49m\u001b[43mfilter2D\u001b[49m\u001b[43m(\u001b[49m\u001b[43mimg\u001b[49m\u001b[43m,\u001b[49m\u001b[43m \u001b[49m\u001b[38;5;241;43m-\u001b[39;49m\u001b[38;5;241;43m1\u001b[39;49m\u001b[43m,\u001b[49m\u001b[43m \u001b[49m\u001b[43mkernel\u001b[49m\u001b[43m)\u001b[49m\n\u001b[1;32m      9\u001b[0m cv2\u001b[38;5;241m.\u001b[39mimshow(\u001b[38;5;124m'\u001b[39m\u001b[38;5;124medge\u001b[39m\u001b[38;5;124m'\u001b[39m, output)\n\u001b[1;32m     10\u001b[0m cv2\u001b[38;5;241m.\u001b[39mwaitKey(\u001b[38;5;241m0\u001b[39m)\n",
      "\u001b[0;31merror\u001b[0m: OpenCV(4.11.0) /io/opencv/modules/imgproc/src/filter.dispatch.cpp:1528: error: (-215:Assertion failed) !_src.empty() in function 'filter2D'\n"
     ]
    }
   ],
   "source": [
    "import cv2\n",
    "import numpy as np\n",
    "\n",
    "img=cv2.imread('Lena.png', cv2.IMREAD_GRAYSCALE)\n",
    "kernel = np.array([[1,1,1],[1,-8,1],[1,1,1]])\n",
    "print(kernel)\n",
    "\n",
    "output = cv2.filter2D(img, -1, kernel)\n",
    "cv2.imshow('edge', output)\n",
    "cv2.waitKey(0)\n",
    "\n",
    "img=cv2.imread('Lena.png', cv2.IMREAD_GRAYSCALE)\n",
    "kernel = np.array([[0,0,0],[0,1,0],[0,0,0]])\n",
    "print(kernel)\n",
    "\n",
    "output = cv2.filter2D(img, -1, kernel)\n",
    "cv2.imshow('Identity', output)\n",
    "cv2.waitKey(0)\n",
    "\n",
    "img=cv2.imread('Lena.png', cv2.IMREAD_GRAYSCALE)\n",
    "kernel = np.array([[0,-1,0],[-1,4,-1],[0,-1,0]])\n",
    "print(kernel)\n",
    "\n",
    "output = cv2.filter2D(img, -1, kernel)\n",
    "cv2.imshow('Edge detection', output)\n",
    "cv2.waitKey(0)\n",
    "\n",
    "img=cv2.imread('Lena.png', cv2.IMREAD_GRAYSCALE)\n",
    "kernel = np.array([[0,-1,0],[-1,5,-1],[0,-1,0]])\n",
    "print(kernel)\n",
    "\n",
    "output = cv2.filter2D(img, -1, kernel)\n",
    "cv2.imshow('Sharpen', output)\n",
    "cv2.waitKey(0)\n",
    "\n",
    "img=cv2.imread('Lena.png', cv2.IMREAD_GRAYSCALE)\n",
    "kernel = np.array([[1,1,1],[1,1,1],[1,1,1]]) / 9\n",
    "print(kernel)\n",
    "\n",
    "output = cv2.filter2D(img, -1, kernel)\n",
    "cv2.imshow('Box blur', output)\n",
    "cv2.waitKey(0)\n",
    "\n",
    "img=cv2.imread('Lena.png', cv2.IMREAD_GRAYSCALE)\n",
    "kernel = np.array([[1,2,1],[2,4,2],[1,2,1]]) / 16\n",
    "print(kernel)\n",
    "\n",
    "output = cv2.filter2D(img, -1, kernel)\n",
    "cv2.imshow('Gaussian', output)\n",
    "cv2.waitKey(0)\n",
    "\n",
    "img=cv2.imread('Lena.jpg', cv2.IMREAD_GRAYSCALE)\n",
    "kernel = np.array([[1,4,6,4,1],[4,16,24,16,4],[6,24,36,24,6],[4,16,24,16,4],[1,4,6,4,1]]) / 256\n",
    "print(kernel)\n",
    "\n",
    "output = cv2.filter2D(img, -1, kernel)\n",
    "cv2.imshow('Gaussian blur 5*5', output)\n",
    "cv2.waitKey(0)\n",
    "\n",
    "import tensorflow as tf\n",
    "import matplotlib.pyplot as plt\n",
    "\n",
    "fashion_mnist = tf.keras.datasets.fashion_mnist\n",
    "(f_image_train, f_label_train),(f_image_test, f_label_test) = fashion_mnist.load_data()\n",
    "f_image_train, f_image_test = f_image_train/255.0, f_image_test/255.0\n",
    "\n",
    "class_names = ['T-shirt/top', 'Trouser','Pullover','Dress','Coat','Sandal','Shirt','Sneaker','Bag', 'Ankle boot']\n",
    "\n",
    "plt.figure(figsize=(10,10))\n",
    "for i in range(10):\n",
    "    plt.subplot(3,4,i+1)\n",
    "    plt.xticks([])\n",
    "    plt.yticks([])\n",
    "    plt.grid(False)\n",
    "    plt.imshow(f_image_train[i])\n",
    "    plt.xlabel(class_names[f_label_train[i]])\n",
    "plt.show()\n",
    "\n",
    "# CNN\n",
    "model = tf.keras.Sequential()\n",
    "model.add(tf.keras.layers.Conv2D(64, (3, 3), activation='relu', input_shape=(28, 28, 1)))\n",
    "model.add(tf.keras.layers.MaxPooling2D((2, 2)))\n",
    "model.add(tf.keras.layers.Conv2D(64, (3, 3),activation='relu'))\n",
    "model.add(tf.keras.layers.MaxPooling2D((2, 2)))\n",
    "model.add(tf.keras.layers.Conv2D(64, (3, 3), activation='relu'))\n",
    "\n",
    "# ANN\n",
    "model = tf.keras.Sequential()\n",
    "model.add(tf.keras.layers.Flatten())\n",
    "model.add(tf.keras.layers.Dense(128, activation='relu'))\n",
    "model.add(tf.keras.layers.Dense(64, activation='relu'))\n",
    "model.add(tf.keras.layers.Dense(10,activation='softmax'))\n",
    "\n",
    "model.compile(optimizer='adam',loss='sparse_categorical_crossentropy',metrics=['accuracy'],)\n",
    "model.fit(f_image_train, f_label_train, epochs=10, batch_size=10)\n",
    "model.summary()\n",
    "model.save('fashion_mnist2.keras')\n"
   ]
  }
 ],
 "metadata": {
  "kernelspec": {
   "display_name": ".factory",
   "language": "python",
   "name": "python3"
  },
  "language_info": {
   "codemirror_mode": {
    "name": "ipython",
    "version": 3
   },
   "file_extension": ".py",
   "mimetype": "text/x-python",
   "name": "python",
   "nbconvert_exporter": "python",
   "pygments_lexer": "ipython3",
   "version": "3.10.12"
  }
 },
 "nbformat": 4,
 "nbformat_minor": 2
}
